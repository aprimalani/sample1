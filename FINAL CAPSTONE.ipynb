{
 "cells": [
  {
   "cell_type": "code",
   "execution_count": 2,
   "metadata": {},
   "outputs": [],
   "source": [
    "#Importing necessary libraries\n",
    "import pandas as pd\n",
    "import numpy as np\n",
    "import seaborn as sns\n",
    "import matplotlib.pyplot as plt\n",
    "\n",
    "%matplotlib inline"
   ]
  },
  {
   "cell_type": "code",
   "execution_count": 3,
   "metadata": {},
   "outputs": [
    {
     "data": {
      "text/html": [
       "<div>\n",
       "<style>\n",
       "    .dataframe thead tr:only-child th {\n",
       "        text-align: right;\n",
       "    }\n",
       "\n",
       "    .dataframe thead th {\n",
       "        text-align: left;\n",
       "    }\n",
       "\n",
       "    .dataframe tbody tr th {\n",
       "        vertical-align: top;\n",
       "    }\n",
       "</style>\n",
       "<table border=\"1\" class=\"dataframe\">\n",
       "  <thead>\n",
       "    <tr style=\"text-align: right;\">\n",
       "      <th></th>\n",
       "      <th>PhraseId</th>\n",
       "      <th>SentenceId</th>\n",
       "      <th>Phrase</th>\n",
       "      <th>Sentiment</th>\n",
       "    </tr>\n",
       "  </thead>\n",
       "  <tbody>\n",
       "    <tr>\n",
       "      <th>0</th>\n",
       "      <td>1</td>\n",
       "      <td>1</td>\n",
       "      <td>A series of escapades demonstrating the adage ...</td>\n",
       "      <td>1</td>\n",
       "    </tr>\n",
       "    <tr>\n",
       "      <th>1</th>\n",
       "      <td>2</td>\n",
       "      <td>1</td>\n",
       "      <td>A series of escapades demonstrating the adage ...</td>\n",
       "      <td>2</td>\n",
       "    </tr>\n",
       "    <tr>\n",
       "      <th>2</th>\n",
       "      <td>3</td>\n",
       "      <td>1</td>\n",
       "      <td>A series</td>\n",
       "      <td>2</td>\n",
       "    </tr>\n",
       "    <tr>\n",
       "      <th>3</th>\n",
       "      <td>4</td>\n",
       "      <td>1</td>\n",
       "      <td>A</td>\n",
       "      <td>2</td>\n",
       "    </tr>\n",
       "    <tr>\n",
       "      <th>4</th>\n",
       "      <td>5</td>\n",
       "      <td>1</td>\n",
       "      <td>series</td>\n",
       "      <td>2</td>\n",
       "    </tr>\n",
       "  </tbody>\n",
       "</table>\n",
       "</div>"
      ],
      "text/plain": [
       "   PhraseId  SentenceId                                             Phrase  \\\n",
       "0         1           1  A series of escapades demonstrating the adage ...   \n",
       "1         2           1  A series of escapades demonstrating the adage ...   \n",
       "2         3           1                                           A series   \n",
       "3         4           1                                                  A   \n",
       "4         5           1                                             series   \n",
       "\n",
       "   Sentiment  \n",
       "0          1  \n",
       "1          2  \n",
       "2          2  \n",
       "3          2  \n",
       "4          2  "
      ]
     },
     "execution_count": 3,
     "metadata": {},
     "output_type": "execute_result"
    }
   ],
   "source": [
    "#Loading raw data\n",
    "raw_train_data =  pd.DataFrame.from_csv('train.tsv', sep='\\t', header=0)\n",
    "raw_test_data =  pd.DataFrame.from_csv('test.tsv', sep='\\t', header=0)\n",
    "raw_train_data = raw_train_data.reset_index()\n",
    "raw_test_data = raw_test_data.reset_index()\n",
    "\n",
    "raw_train_data.head()"
   ]
  },
  {
   "cell_type": "code",
   "execution_count": 4,
   "metadata": {},
   "outputs": [
    {
     "data": {
      "text/html": [
       "<div>\n",
       "<style>\n",
       "    .dataframe thead tr:only-child th {\n",
       "        text-align: right;\n",
       "    }\n",
       "\n",
       "    .dataframe thead th {\n",
       "        text-align: left;\n",
       "    }\n",
       "\n",
       "    .dataframe tbody tr th {\n",
       "        vertical-align: top;\n",
       "    }\n",
       "</style>\n",
       "<table border=\"1\" class=\"dataframe\">\n",
       "  <thead>\n",
       "    <tr style=\"text-align: right;\">\n",
       "      <th></th>\n",
       "      <th>PhraseId</th>\n",
       "      <th>SentenceId</th>\n",
       "      <th>Sentiment</th>\n",
       "    </tr>\n",
       "  </thead>\n",
       "  <tbody>\n",
       "    <tr>\n",
       "      <th>count</th>\n",
       "      <td>156060.000000</td>\n",
       "      <td>156060.000000</td>\n",
       "      <td>156060.000000</td>\n",
       "    </tr>\n",
       "    <tr>\n",
       "      <th>mean</th>\n",
       "      <td>78030.500000</td>\n",
       "      <td>4079.732744</td>\n",
       "      <td>2.063578</td>\n",
       "    </tr>\n",
       "    <tr>\n",
       "      <th>std</th>\n",
       "      <td>45050.785842</td>\n",
       "      <td>2502.764394</td>\n",
       "      <td>0.893832</td>\n",
       "    </tr>\n",
       "    <tr>\n",
       "      <th>min</th>\n",
       "      <td>1.000000</td>\n",
       "      <td>1.000000</td>\n",
       "      <td>0.000000</td>\n",
       "    </tr>\n",
       "    <tr>\n",
       "      <th>25%</th>\n",
       "      <td>39015.750000</td>\n",
       "      <td>1861.750000</td>\n",
       "      <td>2.000000</td>\n",
       "    </tr>\n",
       "    <tr>\n",
       "      <th>50%</th>\n",
       "      <td>78030.500000</td>\n",
       "      <td>4017.000000</td>\n",
       "      <td>2.000000</td>\n",
       "    </tr>\n",
       "    <tr>\n",
       "      <th>75%</th>\n",
       "      <td>117045.250000</td>\n",
       "      <td>6244.000000</td>\n",
       "      <td>3.000000</td>\n",
       "    </tr>\n",
       "    <tr>\n",
       "      <th>max</th>\n",
       "      <td>156060.000000</td>\n",
       "      <td>8544.000000</td>\n",
       "      <td>4.000000</td>\n",
       "    </tr>\n",
       "  </tbody>\n",
       "</table>\n",
       "</div>"
      ],
      "text/plain": [
       "            PhraseId     SentenceId      Sentiment\n",
       "count  156060.000000  156060.000000  156060.000000\n",
       "mean    78030.500000    4079.732744       2.063578\n",
       "std     45050.785842    2502.764394       0.893832\n",
       "min         1.000000       1.000000       0.000000\n",
       "25%     39015.750000    1861.750000       2.000000\n",
       "50%     78030.500000    4017.000000       2.000000\n",
       "75%    117045.250000    6244.000000       3.000000\n",
       "max    156060.000000    8544.000000       4.000000"
      ]
     },
     "execution_count": 4,
     "metadata": {},
     "output_type": "execute_result"
    }
   ],
   "source": [
    "raw_train_data.describe()"
   ]
  },
  {
   "cell_type": "code",
   "execution_count": 5,
   "metadata": {},
   "outputs": [
    {
     "data": {
      "image/png": "[encoded data removed]",
      "text/plain": [
       "<matplotlib.figure.Figure at 0x7f5f2c6c4550>"
      ]
     },
     "metadata": {},
     "output_type": "display_data"
    }
   ],
   "source": [
    "plt.figure(figsize=(8,9))\n",
    "ax=sns.countplot(x='Sentiment',data=raw_train_data)\n",
    "\n",
    "labels = ['Negative','Somewhat Negative','Neutral','Somewhat Positive','Positive']\n",
    "ax.set_xticklabels(labels)\n",
    "\n",
    "for p in ax.patches:\n",
    "    height = p.get_height()\n",
    "    if(np.isnan(height)):\n",
    "        height=0\n",
    "    ax.text(p.get_x()+p.get_width()/2.,\n",
    "            height + 3,\n",
    "            height,\n",
    "            ha=\"center\")"
   ]
  },
  {
   "cell_type": "code",
   "execution_count": 6,
   "metadata": {},
   "outputs": [
    {
     "name": "stdout",
     "output_type": "stream",
     "text": [
      "Total number of sentences: [8544]\n"
     ]
    }
   ],
   "source": [
    "print \"Total number of sentences: \" + str(raw_train_data['SentenceId'][-1:].values)"
   ]
  },
  {
   "cell_type": "code",
   "execution_count": 7,
   "metadata": {},
   "outputs": [
    {
     "data": {
      "text/plain": [
       "0    [a, series, of, escapades, demonstrating, the,...\n",
       "1    [a, series, of, escapades, demonstrating, the,...\n",
       "2                                          [a, series]\n",
       "3                                                  [a]\n",
       "4                                             [series]\n",
       "Name: Tokens, dtype: object"
      ]
     },
     "execution_count": 7,
     "metadata": {},
     "output_type": "execute_result"
    }
   ],
   "source": [
    "from nltk.tokenize import word_tokenize\n",
    "\n",
    "#Tokenizing the phrases\n",
    "raw_train_data['Tokens'] = raw_train_data.apply(lambda row: word_tokenize(row['Phrase']), axis=1)\n",
    "\n",
    "#Converting tokens to lower case\n",
    "raw_train_data['Tokens'] = raw_train_data.apply(lambda row: map(lambda x:x.lower(),row['Tokens']),axis=1)\n",
    "\n",
    "raw_train_data['Tokens'].head()"
   ]
  },
  {
   "cell_type": "code",
   "execution_count": 144,
   "metadata": {
    "collapsed": true
   },
   "outputs": [],
   "source": [
    "from nltk.corpus import stopwords\n",
    "\n",
    "#Removing common stop words which do not add meaning or sentiment to the sentence\n",
    "stop_words = set(stopwords.words('english'))\n",
    "\n",
    "def stopwordremove(mylist):\n",
    "    return [w for w in mylist if not w in stop_words]\n",
    "\n",
    "raw_train_data['Tokens'] = raw_train_data.apply(lambda row: stopwordremove(row['Tokens']), axis=1)"
   ]
  },
  {
   "cell_type": "code",
   "execution_count": 8,
   "metadata": {
    "collapsed": true
   },
   "outputs": [],
   "source": [
    "#Remove punctuation\n",
    "punct = ['.',',',':','``','--','','\\'s','\\'','&','$','#','\\'\\'']\n",
    "\n",
    "def punctremove(mylist):\n",
    "    return [w for w in mylist if not w in punct]\n",
    "\n",
    "raw_train_data['Tokens'] = raw_train_data.apply(lambda row: punctremove(row['Tokens']), axis=1)"
   ]
  },
  {
   "cell_type": "code",
   "execution_count": null,
   "metadata": {
    "collapsed": true
   },
   "outputs": [],
   "source": []
  },
  {
   "cell_type": "code",
   "execution_count": 9,
   "metadata": {
    "collapsed": true
   },
   "outputs": [],
   "source": [
    "from sklearn.model_selection import train_test_split\n",
    "\n",
    "x_train, x_test, y_train, y_test = train_test_split(np.array(raw_train_data['Tokens']),\n",
    "                np.array(raw_train_data['Sentiment']), test_size=0.2)"
   ]
  },
  {
   "cell_type": "code",
   "execution_count": 10,
   "metadata": {},
   "outputs": [],
   "source": [
    "from gensim.models.doc2vec import LabeledSentence\n",
    "\n",
    "def labelize(phrase, label_type):\n",
    "    labelized = []\n",
    "    for i,v in enumerate(phrase):\n",
    "        label = '%s_%s'%(label_type,i)\n",
    "        labelized.append(LabeledSentence(v, [label]))\n",
    "    return labelized\n",
    "\n",
    "x_train = labelize(x_train, 'TRAIN')\n",
    "x_test = labelize(x_test, 'TEST')"
   ]
  },
  {
   "cell_type": "code",
   "execution_count": 11,
   "metadata": {},
   "outputs": [
    {
     "data": {
      "text/plain": [
       "TaggedDocument(words=['watching', 'this', '65-minute', 'trifle'], tags=['TRAIN_2'])"
      ]
     },
     "execution_count": 11,
     "metadata": {},
     "output_type": "execute_result"
    }
   ],
   "source": [
    "x_train[2]"
   ]
  },
  {
   "cell_type": "code",
   "execution_count": 12,
   "metadata": {},
   "outputs": [
    {
     "data": {
      "text/plain": [
       "3276024"
      ]
     },
     "execution_count": 12,
     "metadata": {},
     "output_type": "execute_result"
    }
   ],
   "source": [
    "from gensim.models import Word2Vec\n",
    "\n",
    "phrase_w2v = Word2Vec(size=150)\n",
    "phrase_w2v.build_vocab([x.words for x in x_train])\n",
    "phrase_w2v.train([x.words for x in x_train],total_examples = phrase_w2v.corpus_count,epochs=phrase_w2v.iter)"
   ]
  },
  {
   "cell_type": "code",
   "execution_count": 13,
   "metadata": {},
   "outputs": [
    {
     "data": {
      "text/plain": [
       "array([ 0.10759545,  0.29742324, -0.47936103,  0.13754198, -0.42158741,\n",
       "        0.20306163,  0.0039076 , -0.23193522,  0.09890216, -0.11786469,\n",
       "        0.10366359, -0.34728044, -0.75759572, -0.16636601,  0.05110803,\n",
       "        0.21570025, -0.15380317, -0.26031625, -0.27795392,  0.30669731,\n",
       "       -0.24080403, -0.33658981,  0.43431172,  0.20526418,  0.22465032,\n",
       "        0.15148968,  0.05488148,  0.02788476, -0.14936745, -0.34954378,\n",
       "       -0.05130431, -0.07158179,  0.08139463,  0.09658962,  0.1849827 ,\n",
       "        0.02466248, -0.10300081, -0.32348099, -0.10208371, -0.46039951,\n",
       "       -0.37184867, -0.07049087, -0.23688549,  0.0150724 ,  0.00840277,\n",
       "       -0.34533399,  0.22620355,  0.05843164,  0.26978615, -0.37110996,\n",
       "        0.0168418 , -0.3952646 , -0.01947367, -0.31898665,  0.27208555,\n",
       "       -0.28569865, -0.21950845,  0.03092971, -0.032866  ,  0.01912653,\n",
       "       -0.05450856,  0.51664162,  0.31292993,  0.11613011,  0.13655138,\n",
       "        0.03941527,  0.19555697, -0.27301925,  0.11187467,  0.13810407,\n",
       "       -0.01155158, -0.12552832, -0.61228096,  0.41051367, -0.09147641,\n",
       "       -0.19195151,  0.18621936,  0.32766542,  0.05989198,  0.27762827,\n",
       "       -0.05996808,  0.06150733, -0.2811234 ,  0.09622754, -0.03427811,\n",
       "        0.0275638 , -0.53007394, -0.43955746,  0.51124501, -0.39866439,\n",
       "       -0.43557668, -0.3238301 ,  0.36628768,  0.32377696, -0.13564058,\n",
       "       -0.13748465,  0.18128301,  0.25902921,  0.26073122, -0.13942362,\n",
       "       -0.13455196,  0.10764983,  0.05437243,  0.02660817,  0.18196806,\n",
       "        0.05194429,  0.10040884,  0.27409071, -0.050737  , -0.03067583,\n",
       "       -0.18610324, -0.05276706,  0.25734255,  0.2568135 ,  0.17905565,\n",
       "        0.07009089, -0.34380913,  0.30841267, -0.63263965,  0.31331882,\n",
       "        0.02760581,  0.03319024, -0.09937585, -0.01583171,  0.12350971,\n",
       "        0.05392329, -0.25230396, -0.04191348, -0.04688665, -0.27974683,\n",
       "        0.09359375, -0.08972306, -0.08590612, -0.28596348, -0.31437409,\n",
       "       -0.00651817, -0.21533547, -0.51758868, -0.39093113,  0.2941812 ,\n",
       "        0.28710899, -0.13777947, -0.07403418,  0.1986178 ,  0.05301238,\n",
       "        0.07347435, -0.11927691,  0.85125005, -0.15588312,  0.11426046], dtype=float32)"
      ]
     },
     "execution_count": 13,
     "metadata": {},
     "output_type": "execute_result"
    }
   ],
   "source": [
    "phrase_w2v['nice']"
   ]
  },
  {
   "cell_type": "code",
   "execution_count": 14,
   "metadata": {},
   "outputs": [
    {
     "data": {
      "text/plain": [
       "array([-0.22799507, -0.21024056,  0.41707197, -0.31796318, -0.63519365,\n",
       "       -1.4143151 , -1.60570621, -0.67115325,  0.33487967,  0.40187925,\n",
       "       -0.09246069, -0.37253502, -0.15014249,  0.43475646,  0.97802979,\n",
       "       -0.12447377,  0.16825388,  1.17288888, -0.20439398,  0.04545932,\n",
       "        0.57340091,  0.56836277,  0.60806555, -0.0500859 ,  0.01254086,\n",
       "       -0.05161536, -0.10540849, -0.38866943,  1.03401315,  0.30391803,\n",
       "       -0.55771255, -1.08538973, -0.25929439, -0.62723106, -0.60723919,\n",
       "        0.41139749, -0.52572238, -0.40836602, -0.00850472, -0.95935762,\n",
       "       -0.11452551, -0.18722853, -0.92691416,  1.40986228,  0.28962454,\n",
       "       -0.14513591,  0.21655211, -0.72100395,  1.06812644, -0.14916049,\n",
       "       -0.32580352, -0.30032545,  1.11426973, -0.12287421, -0.15965442,\n",
       "        0.78137839, -0.38786304, -0.22357412,  0.89760482, -1.13262928,\n",
       "       -1.18644989,  1.29184163,  1.44577992,  0.45672405, -0.09379626,\n",
       "       -0.42701229, -0.57325208, -0.27221018,  0.36988348, -0.20352821,\n",
       "       -0.1058724 , -0.23893005, -0.34853917,  0.72121459, -0.8117159 ,\n",
       "       -0.01102385,  1.03049958,  0.74536961, -0.04211601,  1.02879512,\n",
       "       -0.43909365,  0.80313444, -0.02336881,  0.23168325,  0.25784838,\n",
       "       -0.58739287, -1.62867427, -0.90530127,  1.34237742,  0.80386144,\n",
       "       -1.1946454 ,  0.06798591,  0.35103339,  0.20484543, -0.359503  ,\n",
       "        0.13453473,  1.1073966 ,  1.59580028, -0.4463892 , -1.4503125 ,\n",
       "       -0.40661269,  1.62616551,  0.03389973, -0.80293161,  1.34853232,\n",
       "        1.06876552,  0.72995704,  0.23308153,  0.1285055 , -0.32053375,\n",
       "        0.20565511, -0.07618476, -0.13281672,  0.25807557,  0.29922619,\n",
       "       -0.47373012, -0.28695378,  0.00405361, -1.61853909,  0.46485013,\n",
       "        0.19026797,  0.65356654, -1.06644893,  0.1604348 ,  0.73250782,\n",
       "       -0.18766294, -0.83381808, -0.54257208,  0.46710938,  0.05348311,\n",
       "       -0.97022754,  0.86484015,  0.82041007, -0.02485461, -1.46250439,\n",
       "        0.08025661, -1.41459966, -0.54377651, -1.34571218,  1.02516508,\n",
       "       -1.15814674, -0.53083491, -0.4634299 ,  0.15000857,  0.63458335,\n",
       "        0.7906968 , -0.92122942,  1.54759061, -0.30070561, -0.27428979], dtype=float32)"
      ]
     },
     "execution_count": 14,
     "metadata": {},
     "output_type": "execute_result"
    }
   ],
   "source": [
    "phrase_w2v['a']"
   ]
  },
  {
   "cell_type": "code",
   "execution_count": 15,
   "metadata": {},
   "outputs": [
    {
     "data": {
      "text/plain": [
       "[('stupid', 0.9351192116737366),\n",
       " ('prolonged', 0.9010217189788818),\n",
       " ('self-righteous', 0.8949893116950989),\n",
       " ('oh', 0.8940533399581909),\n",
       " ('sanctimonious', 0.8925156593322754),\n",
       " ('safe', 0.8879249691963196),\n",
       " ('canadian', 0.8820549249649048),\n",
       " ('impersonal', 0.8815926313400269),\n",
       " ('fast', 0.8786591291427612),\n",
       " ('icky', 0.8703434467315674)]"
      ]
     },
     "execution_count": 15,
     "metadata": {},
     "output_type": "execute_result"
    }
   ],
   "source": [
    "phrase_w2v.most_similar('boring')"
   ]
  },
  {
   "cell_type": "code",
   "execution_count": 16,
   "metadata": {},
   "outputs": [
    {
     "name": "stdout",
     "output_type": "stream",
     "text": [
      "vocab size : 9429\n"
     ]
    }
   ],
   "source": [
    "from sklearn.feature_extraction.text import TfidfVectorizer\n",
    "\n",
    "vectorizer = TfidfVectorizer(analyzer=lambda x: x, min_df=10)\n",
    "matrix = vectorizer.fit_transform([x.words for x in x_train])\n",
    "tfidf = dict(zip(vectorizer.get_feature_names(), vectorizer.idf_))\n",
    "print 'vocab size :', len(tfidf)"
   ]
  },
  {
   "cell_type": "code",
   "execution_count": 17,
   "metadata": {
    "collapsed": true
   },
   "outputs": [],
   "source": [
    "def buildWordVector(tokens, size):\n",
    "    vec = np.zeros(size).reshape((1, size))\n",
    "    count = 0.\n",
    "    for word in tokens:\n",
    "        try:\n",
    "            vec += phrase_w2v[word].reshape((1, size)) * tfidf[word]\n",
    "            count += 1.\n",
    "        except KeyError: # handling the case where the token is not\n",
    "                         # in the corpus. useful for testing.\n",
    "            continue\n",
    "    if count != 0:\n",
    "        vec /= count\n",
    "    return vec"
   ]
  },
  {
   "cell_type": "code",
   "execution_count": 18,
   "metadata": {
    "collapsed": true
   },
   "outputs": [],
   "source": [
    "from sklearn.preprocessing import scale\n",
    "train_vecs_w2v = np.concatenate([buildWordVector(z, 150) for z in map(lambda x: x.words, x_train)])\n",
    "train_vecs_w2v = scale(train_vecs_w2v)\n",
    "\n",
    "test_vecs_w2v = np.concatenate([buildWordVector(z, 150) for z in map(lambda x: x.words, x_test)])\n",
    "test_vecs_w2v = scale(test_vecs_w2v)"
   ]
  },
  {
   "cell_type": "code",
   "execution_count": 19,
   "metadata": {},
   "outputs": [
    {
     "name": "stdout",
     "output_type": "stream",
     "text": [
      "(124848, 5)\n",
      "(31212, 5)\n"
     ]
    }
   ],
   "source": [
    "import keras\n",
    "\n",
    "# One-hot encoding the labels\n",
    "num_classes = 5\n",
    "y_train = keras.utils.to_categorical(y_train, num_classes)\n",
    "print(y_train.shape)\n",
    "\n",
    "# One-hot encoding the labels\n",
    "num_classes = 5\n",
    "y_test = keras.utils.to_categorical(y_test, num_classes)\n",
    "print(y_test.shape)"
   ]
  },
  {
   "cell_type": "code",
   "execution_count": 20,
   "metadata": {},
   "outputs": [
    {
     "name": "stdout",
     "output_type": "stream",
     "text": [
      "Epoch 1/50\n",
      "124848/124848 [==============================] - 25s - loss: 1.1896 - acc: 0.5275    \n",
      "Epoch 2/50\n",
      "   736/124848 [..............................] - ETA: 28s - loss: 1.1699 - acc: 0.5394"
     ]
    },
    {
     "name": "stderr",
     "output_type": "stream",
     "text": [
      "/usr/local/lib/python2.7/dist-packages/keras/callbacks.py:405: RuntimeWarning: Can save best model only with val_loss available, skipping.\n",
      "  'skipping.' % (self.monitor), RuntimeWarning)\n"
     ]
    },
    {
     "name": "stdout",
     "output_type": "stream",
     "text": [
      "124848/124848 [==============================] - 25s - loss: 1.1675 - acc: 0.5369    \n",
      "Epoch 3/50\n",
      "124848/124848 [==============================] - 25s - loss: 1.1598 - acc: 0.5407    \n",
      "Epoch 4/50\n",
      "124848/124848 [==============================] - 25s - loss: 1.1599 - acc: 0.5426    \n",
      "Epoch 5/50\n",
      "124848/124848 [==============================] - 25s - loss: 1.1568 - acc: 0.5454    \n",
      "Epoch 6/50\n",
      "124848/124848 [==============================] - 25s - loss: 1.1556 - acc: 0.5455    \n",
      "Epoch 7/50\n",
      "124848/124848 [==============================] - 25s - loss: 1.1601 - acc: 0.5471    \n",
      "Epoch 8/50\n",
      "124848/124848 [==============================] - 25s - loss: 1.1812 - acc: 0.5490    \n",
      "Epoch 9/50\n",
      "124848/124848 [==============================] - 25s - loss: 1.1789 - acc: 0.5493    \n",
      "Epoch 10/50\n",
      "124848/124848 [==============================] - 26s - loss: 1.2143 - acc: 0.5496    \n",
      "Epoch 11/50\n",
      "124848/124848 [==============================] - 26s - loss: 1.3259 - acc: 0.5506    \n",
      "Epoch 12/50\n",
      "124848/124848 [==============================] - 26s - loss: 1.2772 - acc: 0.5525    \n",
      "Epoch 13/50\n",
      "124848/124848 [==============================] - 26s - loss: 1.3061 - acc: 0.5547    \n",
      "Epoch 14/50\n",
      "124848/124848 [==============================] - 26s - loss: 1.2500 - acc: 0.5551    \n",
      "Epoch 15/50\n",
      "124848/124848 [==============================] - 25s - loss: 1.3319 - acc: 0.5541    \n",
      "Epoch 16/50\n",
      "124848/124848 [==============================] - 25s - loss: 1.4386 - acc: 0.5540    \n",
      "Epoch 17/50\n",
      "124848/124848 [==============================] - 25s - loss: 1.5791 - acc: 0.5561    \n",
      "Epoch 18/50\n",
      "124848/124848 [==============================] - 25s - loss: 1.4547 - acc: 0.5558    \n",
      "Epoch 19/50\n",
      "124848/124848 [==============================] - 25s - loss: 1.4795 - acc: 0.5556    \n",
      "Epoch 20/50\n",
      "124848/124848 [==============================] - 25s - loss: 1.3419 - acc: 0.5559    \n",
      "Epoch 21/50\n",
      "124848/124848 [==============================] - 25s - loss: 1.3646 - acc: 0.5584    \n",
      "Epoch 22/50\n",
      "124848/124848 [==============================] - 26s - loss: 1.3460 - acc: 0.5574    \n",
      "Epoch 23/50\n",
      "124848/124848 [==============================] - 25s - loss: 1.3052 - acc: 0.5572    \n",
      "Epoch 24/50\n",
      "124848/124848 [==============================] - 26s - loss: 1.2970 - acc: 0.5587    \n",
      "Epoch 25/50\n",
      "124848/124848 [==============================] - 26s - loss: 1.3119 - acc: 0.5597    \n",
      "Epoch 26/50\n",
      "124848/124848 [==============================] - 26s - loss: 1.4239 - acc: 0.5615    \n",
      "Epoch 27/50\n",
      "124848/124848 [==============================] - 26s - loss: 1.4505 - acc: 0.5623    \n",
      "Epoch 28/50\n",
      "124848/124848 [==============================] - 26s - loss: 1.4864 - acc: 0.5656    \n",
      "Epoch 29/50\n",
      "124848/124848 [==============================] - 26s - loss: 1.3874 - acc: 0.5641    \n",
      "Epoch 30/50\n",
      "124848/124848 [==============================] - 26s - loss: 1.3975 - acc: 0.5660    \n",
      "Epoch 31/50\n",
      "124848/124848 [==============================] - 26s - loss: 1.4045 - acc: 0.5669    \n",
      "Epoch 32/50\n",
      "124848/124848 [==============================] - 25s - loss: 1.4422 - acc: 0.5666    \n",
      "Epoch 33/50\n",
      "124848/124848 [==============================] - 25s - loss: 1.5006 - acc: 0.5682    \n",
      "Epoch 34/50\n",
      "124848/124848 [==============================] - 25s - loss: 1.7054 - acc: 0.5706    \n",
      "Epoch 35/50\n",
      "124848/124848 [==============================] - 25s - loss: 1.9078 - acc: 0.5691    \n",
      "Epoch 36/50\n",
      "124848/124848 [==============================] - 25s - loss: 1.9065 - acc: 0.5710    \n",
      "Epoch 37/50\n",
      "124848/124848 [==============================] - 28s - loss: 1.8362 - acc: 0.5698    \n",
      "Epoch 38/50\n",
      "124848/124848 [==============================] - 28s - loss: 1.9757 - acc: 0.5706    \n",
      "Epoch 39/50\n",
      "124848/124848 [==============================] - 26s - loss: 1.7893 - acc: 0.5706    \n",
      "Epoch 40/50\n",
      "124848/124848 [==============================] - 26s - loss: 1.8604 - acc: 0.5718    \n",
      "Epoch 41/50\n",
      "124848/124848 [==============================] - 25s - loss: 1.9304 - acc: 0.5719    \n",
      "Epoch 42/50\n",
      "124848/124848 [==============================] - 26s - loss: 1.8407 - acc: 0.5731    \n",
      "Epoch 43/50\n",
      "124848/124848 [==============================] - 26s - loss: 1.7712 - acc: 0.5720    \n",
      "Epoch 44/50\n",
      "124848/124848 [==============================] - 26s - loss: 1.8236 - acc: 0.5718    \n",
      "Epoch 45/50\n",
      "124848/124848 [==============================] - 25s - loss: 1.9002 - acc: 0.5750    \n",
      "Epoch 46/50\n",
      "124848/124848 [==============================] - 28s - loss: 1.9362 - acc: 0.5743    \n",
      "Epoch 47/50\n",
      "124848/124848 [==============================] - 29s - loss: 2.2533 - acc: 0.5747    \n",
      "Epoch 48/50\n",
      "124848/124848 [==============================] - 26s - loss: 2.1435 - acc: 0.5759    \n",
      "Epoch 49/50\n",
      "124848/124848 [==============================] - 26s - loss: 2.2032 - acc: 0.5759    \n",
      "Epoch 50/50\n",
      "124848/124848 [==============================] - 25s - loss: 2.2780 - acc: 0.5763    \n"
     ]
    },
    {
     "data": {
      "text/plain": [
       "<keras.callbacks.History at 0x7f5f1ede1e10>"
      ]
     },
     "execution_count": 20,
     "metadata": {},
     "output_type": "execute_result"
    }
   ],
   "source": [
    "from keras.models import Sequential\n",
    "from keras.layers import Dense,Activation,Dropout\n",
    "from keras.callbacks import ModelCheckpoint\n",
    "\n",
    "model = Sequential()\n",
    "model.add(Dense(512, activation='relu', input_dim=150))\n",
    "model.add(Dropout(0.2))\n",
    "model.add(Dense(256, activation='relu'))\n",
    "model.add(Dropout(0.2))\n",
    "model.add(Dense(128, activation='relu'))\n",
    "model.add(Dropout(0.2))\n",
    "model.add(Dense(64, activation='relu'))\n",
    "model.add(Dense(32, activation='relu'))\n",
    "model.add(Dense(5, activation='softmax'))\n",
    "\n",
    "model.compile(optimizer='rmsprop',\n",
    "              loss='categorical_crossentropy',\n",
    "              metrics=['accuracy'])\n",
    "\n",
    "checkpointer = ModelCheckpoint(filepath='saved_models/weights.best.hdf5', \n",
    "                               verbose=1, save_best_only=True)\n",
    "\n",
    "model.fit(train_vecs_w2v, y_train, epochs=50, batch_size=32, callbacks=[checkpointer],verbose=1)"
   ]
  },
  {
   "cell_type": "code",
   "execution_count": 21,
   "metadata": {},
   "outputs": [
    {
     "name": "stdout",
     "output_type": "stream",
     "text": [
      "0.575131359703\n"
     ]
    }
   ],
   "source": [
    "score = model.evaluate(test_vecs_w2v, y_test, batch_size=128, verbose=2)\n",
    "print score[1]"
   ]
  },
  {
   "cell_type": "code",
   "execution_count": null,
   "metadata": {
    "collapsed": true
   },
   "outputs": [],
   "source": []
  }
 ],
 "metadata": {
  "kernelspec": {
   "display_name": "Python 3",
   "language": "python",
   "name": "python3"
  },
  "language_info": {
   "codemirror_mode": {
    "name": "ipython",
    "version": 2
   },
   "file_extension": ".py",
   "mimetype": "text/x-python",
   "name": "python",
   "nbconvert_exporter": "python",
   "pygments_lexer": "ipython2",
   "version": "2.7.12"
  }
 },
 "nbformat": 4,
 "nbformat_minor": 2
}
