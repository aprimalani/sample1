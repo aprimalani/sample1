{
 "cells": [
  {
   "cell_type": "code",
   "execution_count": 1,
   "metadata": {},
   "outputs": [
    {
     "name": "stderr",
     "output_type": "stream",
     "text": [
      "/usr/local/lib/python2.7/dist-packages/pandas/core/computation/__init__.py:18: UserWarning: The installed version of numexpr 2.4.3 is not supported in pandas and will be not be used\n",
      "The minimum supported version is 2.4.6\n",
      "\n",
      "  ver=ver, min_ver=_MIN_NUMEXPR_VERSION), UserWarning)\n"
     ]
    }
   ],
   "source": [
    "#Importing necessary libraries\n",
    "import pandas as pd\n",
    "import numpy as np\n",
    "import seaborn as sns\n",
    "import matplotlib.pyplot as plt\n",
    "\n",
    "%matplotlib inline"
   ]
  },
  {
   "cell_type": "code",
   "execution_count": 2,
   "metadata": {},
   "outputs": [
    {
     "data": {
      "text/html": [
       "<div>\n",
       "<style>\n",
       "    .dataframe thead tr:only-child th {\n",
       "        text-align: right;\n",
       "    }\n",
       "\n",
       "    .dataframe thead th {\n",
       "        text-align: left;\n",
       "    }\n",
       "\n",
       "    .dataframe tbody tr th {\n",
       "        vertical-align: top;\n",
       "    }\n",
       "</style>\n",
       "<table border=\"1\" class=\"dataframe\">\n",
       "  <thead>\n",
       "    <tr style=\"text-align: right;\">\n",
       "      <th></th>\n",
       "      <th>PhraseId</th>\n",
       "      <th>SentenceId</th>\n",
       "      <th>Phrase</th>\n",
       "      <th>Sentiment</th>\n",
       "    </tr>\n",
       "  </thead>\n",
       "  <tbody>\n",
       "    <tr>\n",
       "      <th>0</th>\n",
       "      <td>1</td>\n",
       "      <td>1</td>\n",
       "      <td>A series of escapades demonstrating the adage ...</td>\n",
       "      <td>1</td>\n",
       "    </tr>\n",
       "    <tr>\n",
       "      <th>1</th>\n",
       "      <td>2</td>\n",
       "      <td>1</td>\n",
       "      <td>A series of escapades demonstrating the adage ...</td>\n",
       "      <td>2</td>\n",
       "    </tr>\n",
       "    <tr>\n",
       "      <th>2</th>\n",
       "      <td>3</td>\n",
       "      <td>1</td>\n",
       "      <td>A series</td>\n",
       "      <td>2</td>\n",
       "    </tr>\n",
       "    <tr>\n",
       "      <th>3</th>\n",
       "      <td>4</td>\n",
       "      <td>1</td>\n",
       "      <td>A</td>\n",
       "      <td>2</td>\n",
       "    </tr>\n",
       "    <tr>\n",
       "      <th>4</th>\n",
       "      <td>5</td>\n",
       "      <td>1</td>\n",
       "      <td>series</td>\n",
       "      <td>2</td>\n",
       "    </tr>\n",
       "  </tbody>\n",
       "</table>\n",
       "</div>"
      ],
      "text/plain": [
       "   PhraseId  SentenceId                                             Phrase  \\\n",
       "0         1           1  A series of escapades demonstrating the adage ...   \n",
       "1         2           1  A series of escapades demonstrating the adage ...   \n",
       "2         3           1                                           A series   \n",
       "3         4           1                                                  A   \n",
       "4         5           1                                             series   \n",
       "\n",
       "   Sentiment  \n",
       "0          1  \n",
       "1          2  \n",
       "2          2  \n",
       "3          2  \n",
       "4          2  "
      ]
     },
     "execution_count": 2,
     "metadata": {},
     "output_type": "execute_result"
    }
   ],
   "source": [
    "#Loading raw data\n",
    "raw_train_data =  pd.DataFrame.from_csv('train.tsv', sep='\\t', header=0)\n",
    "raw_test_data =  pd.DataFrame.from_csv('test.tsv', sep='\\t', header=0)\n",
    "raw_train_data = raw_train_data.reset_index()\n",
    "raw_test_data = raw_test_data.reset_index()\n",
    "\n",
    "raw_train_data.head()"
   ]
  },
  {
   "cell_type": "code",
   "execution_count": 3,
   "metadata": {},
   "outputs": [
    {
     "data": {
      "text/html": [
       "<div>\n",
       "<style>\n",
       "    .dataframe thead tr:only-child th {\n",
       "        text-align: right;\n",
       "    }\n",
       "\n",
       "    .dataframe thead th {\n",
       "        text-align: left;\n",
       "    }\n",
       "\n",
       "    .dataframe tbody tr th {\n",
       "        vertical-align: top;\n",
       "    }\n",
       "</style>\n",
       "<table border=\"1\" class=\"dataframe\">\n",
       "  <thead>\n",
       "    <tr style=\"text-align: right;\">\n",
       "      <th></th>\n",
       "      <th>PhraseId</th>\n",
       "      <th>SentenceId</th>\n",
       "      <th>Sentiment</th>\n",
       "    </tr>\n",
       "  </thead>\n",
       "  <tbody>\n",
       "    <tr>\n",
       "      <th>count</th>\n",
       "      <td>156060.000000</td>\n",
       "      <td>156060.000000</td>\n",
       "      <td>156060.000000</td>\n",
       "    </tr>\n",
       "    <tr>\n",
       "      <th>mean</th>\n",
       "      <td>78030.500000</td>\n",
       "      <td>4079.732744</td>\n",
       "      <td>2.063578</td>\n",
       "    </tr>\n",
       "    <tr>\n",
       "      <th>std</th>\n",
       "      <td>45050.785842</td>\n",
       "      <td>2502.764394</td>\n",
       "      <td>0.893832</td>\n",
       "    </tr>\n",
       "    <tr>\n",
       "      <th>min</th>\n",
       "      <td>1.000000</td>\n",
       "      <td>1.000000</td>\n",
       "      <td>0.000000</td>\n",
       "    </tr>\n",
       "    <tr>\n",
       "      <th>25%</th>\n",
       "      <td>39015.750000</td>\n",
       "      <td>1861.750000</td>\n",
       "      <td>2.000000</td>\n",
       "    </tr>\n",
       "    <tr>\n",
       "      <th>50%</th>\n",
       "      <td>78030.500000</td>\n",
       "      <td>4017.000000</td>\n",
       "      <td>2.000000</td>\n",
       "    </tr>\n",
       "    <tr>\n",
       "      <th>75%</th>\n",
       "      <td>117045.250000</td>\n",
       "      <td>6244.000000</td>\n",
       "      <td>3.000000</td>\n",
       "    </tr>\n",
       "    <tr>\n",
       "      <th>max</th>\n",
       "      <td>156060.000000</td>\n",
       "      <td>8544.000000</td>\n",
       "      <td>4.000000</td>\n",
       "    </tr>\n",
       "  </tbody>\n",
       "</table>\n",
       "</div>"
      ],
      "text/plain": [
       "            PhraseId     SentenceId      Sentiment\n",
       "count  156060.000000  156060.000000  156060.000000\n",
       "mean    78030.500000    4079.732744       2.063578\n",
       "std     45050.785842    2502.764394       0.893832\n",
       "min         1.000000       1.000000       0.000000\n",
       "25%     39015.750000    1861.750000       2.000000\n",
       "50%     78030.500000    4017.000000       2.000000\n",
       "75%    117045.250000    6244.000000       3.000000\n",
       "max    156060.000000    8544.000000       4.000000"
      ]
     },
     "execution_count": 3,
     "metadata": {},
     "output_type": "execute_result"
    }
   ],
   "source": [
    "raw_train_data.describe()"
   ]
  },
  {
   "cell_type": "code",
   "execution_count": 4,
   "metadata": {},
   "outputs": [
    {
     "data": {
      "image/png": "[encoded data removed]",
      "text/plain": [
       "<matplotlib.figure.Figure at 0x7ff6a2c3d290>"
      ]
     },
     "metadata": {},
     "output_type": "display_data"
    }
   ],
   "source": [
    "plt.figure(figsize=(8,9))\n",
    "ax=sns.countplot(x='Sentiment',data=raw_train_data)\n",
    "\n",
    "labels = ['Negative','Somewhat Negative','Neutral','Somewhat Positive','Positive']\n",
    "ax.set_xticklabels(labels)\n",
    "\n",
    "for p in ax.patches:\n",
    "    height = p.get_height()\n",
    "    if(np.isnan(height)):\n",
    "        height=0\n",
    "    ax.text(p.get_x()+p.get_width()/2.,\n",
    "            height + 3,\n",
    "            height,\n",
    "            ha=\"center\")"
   ]
  },
  {
   "cell_type": "code",
   "execution_count": 5,
   "metadata": {},
   "outputs": [
    {
     "name": "stdout",
     "output_type": "stream",
     "text": [
      "Total number of sentences: [8544]\n"
     ]
    }
   ],
   "source": [
    "print \"Total number of sentences: \" + str(raw_train_data['SentenceId'][-1:].values)"
   ]
  },
  {
   "cell_type": "code",
   "execution_count": 6,
   "metadata": {},
   "outputs": [
    {
     "data": {
      "text/plain": [
       "0    [a, series, of, escapades, demonstrating, the,...\n",
       "1    [a, series, of, escapades, demonstrating, the,...\n",
       "2                                          [a, series]\n",
       "3                                                  [a]\n",
       "4                                             [series]\n",
       "Name: Tokens, dtype: object"
      ]
     },
     "execution_count": 6,
     "metadata": {},
     "output_type": "execute_result"
    }
   ],
   "source": [
    "from nltk.tokenize import word_tokenize\n",
    "\n",
    "#Tokenizing the phrases\n",
    "raw_train_data['Tokens'] = raw_train_data.apply(lambda row: word_tokenize(row['Phrase']), axis=1)\n",
    "\n",
    "#Converting tokens to lower case\n",
    "raw_train_data['Tokens'] = raw_train_data.apply(lambda row: map(lambda x:x.lower(),row['Tokens']),axis=1)\n",
    "\n",
    "raw_train_data['Tokens'].head()"
   ]
  },
  {
   "cell_type": "code",
   "execution_count": 144,
   "metadata": {
    "collapsed": true
   },
   "outputs": [],
   "source": [
    "from nltk.corpus import stopwords\n",
    "\n",
    "#Removing common stop words which do not add meaning or sentiment to the sentence\n",
    "stop_words = set(stopwords.words('english'))\n",
    "\n",
    "def stopwordremove(mylist):\n",
    "    return [w for w in mylist if not w in stop_words]\n",
    "\n",
    "raw_train_data['Tokens'] = raw_train_data.apply(lambda row: stopwordremove(row['Tokens']), axis=1)"
   ]
  },
  {
   "cell_type": "code",
   "execution_count": 145,
   "metadata": {
    "collapsed": true
   },
   "outputs": [],
   "source": [
    "#Remove punctuation\n",
    "punct = ['.',',',':','``','--','','\\'s','\\'','&','$','#','\\'\\'']\n",
    "\n",
    "def punctremove(mylist):\n",
    "    return [w for w in mylist if not w in punct]\n",
    "\n",
    "raw_train_data['Tokens'] = raw_train_data.apply(lambda row: punctremove(row['Tokens']), axis=1)"
   ]
  },
  {
   "cell_type": "code",
   "execution_count": null,
   "metadata": {
    "collapsed": true
   },
   "outputs": [],
   "source": []
  },
  {
   "cell_type": "code",
   "execution_count": 7,
   "metadata": {
    "collapsed": true
   },
   "outputs": [],
   "source": [
    "from sklearn.model_selection import train_test_split\n",
    "\n",
    "x_train, x_test, y_train, y_test = train_test_split(np.array(raw_train_data['Tokens']),\n",
    "                np.array(raw_train_data['Sentiment']), test_size=0.2)"
   ]
  },
  {
   "cell_type": "code",
   "execution_count": 8,
   "metadata": {},
   "outputs": [
    {
     "name": "stderr",
     "output_type": "stream",
     "text": [
      "Using TensorFlow backend.\n"
     ]
    }
   ],
   "source": [
    "from gensim.models.doc2vec import LabeledSentence\n",
    "\n",
    "def labelize(phrase, label_type):\n",
    "    labelized = []\n",
    "    for i,v in enumerate(phrase):\n",
    "        label = '%s_%s'%(label_type,i)\n",
    "        labelized.append(LabeledSentence(v, [label]))\n",
    "    return labelized\n",
    "\n",
    "x_train = labelize(x_train, 'TRAIN')\n",
    "x_test = labelize(x_test, 'TEST')"
   ]
  },
  {
   "cell_type": "code",
   "execution_count": 9,
   "metadata": {},
   "outputs": [
    {
     "data": {
      "text/plain": [
       "TaggedDocument(words=['infatuation'], tags=['TRAIN_2'])"
      ]
     },
     "execution_count": 9,
     "metadata": {},
     "output_type": "execute_result"
    }
   ],
   "source": [
    "x_train[2]"
   ]
  },
  {
   "cell_type": "code",
   "execution_count": 11,
   "metadata": {},
   "outputs": [
    {
     "data": {
      "text/plain": [
       "3418201"
      ]
     },
     "execution_count": 11,
     "metadata": {},
     "output_type": "execute_result"
    }
   ],
   "source": [
    "from gensim.models import Word2Vec\n",
    "\n",
    "phrase_w2v = Word2Vec(size=150)\n",
    "phrase_w2v.build_vocab([x.words for x in x_train])\n",
    "phrase_w2v.train([x.words for x in x_train],total_examples = phrase_w2v.corpus_count,epochs=phrase_w2v.iter)"
   ]
  },
  {
   "cell_type": "code",
   "execution_count": 12,
   "metadata": {},
   "outputs": [
    {
     "data": {
      "text/plain": [
       "array([  2.00283155e-02,   5.36888897e-01,  -3.12041312e-01,\n",
       "         2.33709574e-01,  -2.92430758e-01,   2.59770244e-01,\n",
       "        -1.16874710e-01,  -3.38275939e-01,   8.07322264e-02,\n",
       "        -3.25454772e-02,  -1.19435132e-01,  -2.69894212e-01,\n",
       "        -9.90471125e-01,  -1.40603781e-01,  -9.37065259e-02,\n",
       "         3.02835405e-01,  -6.30918965e-02,  -2.63392627e-01,\n",
       "        -4.10668522e-01,   2.27890506e-01,  -2.09600285e-01,\n",
       "        -2.25742161e-01,   2.25796282e-01,   3.70642573e-01,\n",
       "         4.16602224e-01,   1.11042172e-01,  -1.71770945e-01,\n",
       "        -2.50101406e-02,  -1.54246747e-01,  -3.23050380e-01,\n",
       "         1.38358310e-01,   3.71179819e-01,   9.10038650e-02,\n",
       "         2.70528734e-01,   7.07855150e-02,  -8.60498175e-02,\n",
       "         8.99416655e-02,  -1.57108586e-02,  -1.09270662e-02,\n",
       "        -1.06905632e-01,  -2.57404685e-01,   6.57992437e-02,\n",
       "        -3.02079380e-01,   3.92433822e-01,  -9.88495648e-02,\n",
       "        -4.52624023e-01,   5.40389121e-02,   1.76697657e-01,\n",
       "         2.57467985e-01,  -4.94527966e-02,   1.04803413e-01,\n",
       "        -4.98906106e-01,  -1.59584612e-01,  -2.32085973e-01,\n",
       "         2.44622529e-01,  -1.78192139e-01,   5.47359250e-02,\n",
       "         7.32707381e-02,  -6.63664192e-02,   4.83889729e-02,\n",
       "         1.04676997e-02,   3.26440752e-01,   1.67730078e-01,\n",
       "         4.16014344e-02,  -3.66323665e-02,  -2.87265122e-01,\n",
       "        -1.37012795e-01,  -2.13091429e-02,  -1.76111590e-02,\n",
       "         1.38035148e-01,  -4.40683700e-02,  -1.13624364e-01,\n",
       "        -3.69063288e-01,   1.86623275e-01,  -2.32118871e-02,\n",
       "        -3.91809754e-02,   5.18679954e-02,   2.41671249e-01,\n",
       "         1.93026438e-01,   2.10331902e-01,   2.68762261e-01,\n",
       "        -9.49590234e-04,  -3.40375423e-01,  -1.98274732e-01,\n",
       "        -4.95410562e-02,  -2.59412944e-01,  -2.04782799e-01,\n",
       "        -2.28981376e-01,   4.57673132e-01,  -5.31739116e-01,\n",
       "        -7.20044196e-01,  -5.01314223e-01,   1.73889354e-01,\n",
       "        -3.78587954e-02,   1.66324958e-01,  -1.69142574e-01,\n",
       "         1.18240669e-01,   1.70375258e-01,   2.40017876e-01,\n",
       "        -2.40455717e-01,  -1.34823799e-01,   1.38884827e-01,\n",
       "         6.17813170e-02,   3.10337543e-01,   1.23335436e-01,\n",
       "        -3.39304022e-02,   1.17646292e-01,  -8.75485092e-02,\n",
       "         4.22819890e-02,   9.57556963e-02,  -3.27183783e-01,\n",
       "        -1.22157037e-01,   3.25567752e-01,  -1.02689460e-01,\n",
       "         2.22627282e-01,  -3.62306535e-02,  -2.32638687e-01,\n",
       "         2.46278808e-01,  -3.05289537e-01,   3.18189487e-02,\n",
       "        -7.78633282e-02,  -1.21143669e-01,   3.44723910e-02,\n",
       "        -7.58658722e-02,   4.73395973e-01,  -6.58287406e-02,\n",
       "        -1.56462237e-01,  -2.49834970e-01,   1.49849698e-01,\n",
       "        -9.09344666e-03,   2.61132866e-01,  -1.18735984e-01,\n",
       "        -8.40745047e-02,  -1.07294150e-01,  -3.19567978e-01,\n",
       "         1.15175091e-01,   4.53437231e-02,  -5.34231961e-01,\n",
       "        -2.03290075e-01,   2.06804782e-01,   2.85400778e-01,\n",
       "        -3.34265977e-01,  -3.28811616e-01,   8.35454687e-02,\n",
       "         1.38182431e-01,   5.03797643e-02,  -6.99882731e-02,\n",
       "         6.43262804e-01,  -1.62379518e-02,   1.75138488e-01], dtype=float32)"
      ]
     },
     "execution_count": 12,
     "metadata": {},
     "output_type": "execute_result"
    }
   ],
   "source": [
    "phrase_w2v['nice']"
   ]
  },
  {
   "cell_type": "code",
   "execution_count": 13,
   "metadata": {},
   "outputs": [
    {
     "data": {
      "text/plain": [
       "array([-0.76962233,  0.10637019,  0.20832273, -0.46251053, -0.28913754,\n",
       "       -1.74078226, -1.61011529, -0.82388705, -0.05693719, -0.4501864 ,\n",
       "       -1.3342607 , -0.80683726, -1.290815  , -0.60064828,  1.04552674,\n",
       "        1.05034125,  0.25648579,  0.26868871, -0.27774704, -0.5664295 ,\n",
       "        0.06569618,  1.55621386,  0.14911926,  0.61083531,  0.59942079,\n",
       "        0.42804208,  0.1705268 , -0.24546941,  0.69206983, -0.29858604,\n",
       "       -1.21446407, -0.34162089,  0.28623405, -0.3969425 , -0.64516139,\n",
       "        0.37117183,  0.53151113,  0.54319334,  0.67585248, -0.92642653,\n",
       "       -0.01779752,  0.34415931, -1.76265693,  0.81905925, -0.73089057,\n",
       "       -0.4397068 ,  0.64554733, -0.26286298,  0.6305396 ,  0.04380273,\n",
       "       -0.97261059, -0.10233014,  1.09183323, -0.53171521,  0.33260226,\n",
       "        0.1174821 ,  0.70461172, -0.73609662,  0.54702681, -1.05996203,\n",
       "       -1.01724446,  1.95405984,  1.22231841,  0.11751307,  0.0543839 ,\n",
       "       -1.06436181, -1.18639421,  0.73819554, -0.39045349, -0.95720649,\n",
       "       -0.20031463, -0.93272287, -0.31986058,  1.2173804 , -1.28884888,\n",
       "        0.79875457,  0.53033662,  1.01232708,  0.49898013,  0.269389  ,\n",
       "       -0.14327426,  0.11430019, -1.53908348,  0.47257569,  1.00266981,\n",
       "       -1.39244485, -0.88032472, -0.27692083,  0.7228772 , -0.39714843,\n",
       "       -1.73743045, -0.68020236,  0.0280853 ,  0.36988804, -0.40974209,\n",
       "       -0.61568654,  0.72750878,  1.18739498, -0.79245758, -1.3787179 ,\n",
       "       -0.7333802 ,  1.01097167, -0.44956866, -0.43036768,  1.69878244,\n",
       "        0.60922617,  0.95336461, -0.53853762, -0.64233434,  0.93680847,\n",
       "       -0.84085268, -0.12948698, -0.48398483,  0.60107273,  0.62398046,\n",
       "       -1.10363233,  0.26016498, -0.32417968, -0.39404771,  0.36763775,\n",
       "        0.06691574,  0.18868355, -0.93716764, -0.29320747,  0.96265453,\n",
       "        0.42980403,  0.32389504, -0.84735286, -0.07635659, -0.00619888,\n",
       "       -0.78773886,  0.65309656, -1.02959013,  0.19476409, -0.89411402,\n",
       "       -0.04579533,  0.16228512,  0.44153106, -0.59661955,  1.15580153,\n",
       "       -1.1015588 ,  0.77455974, -0.70044869, -0.2315212 , -0.39526623,\n",
       "       -0.2925199 , -0.85864025,  0.33038595, -0.85139227,  0.25003064], dtype=float32)"
      ]
     },
     "execution_count": 13,
     "metadata": {},
     "output_type": "execute_result"
    }
   ],
   "source": [
    "phrase_w2v['a']"
   ]
  },
  {
   "cell_type": "code",
   "execution_count": 14,
   "metadata": {},
   "outputs": [
    {
     "data": {
      "text/plain": [
       "[('stupid', 0.8925818204879761),\n",
       " ('damn', 0.8762260675430298),\n",
       " ('oh', 0.864270031452179),\n",
       " ('offensive', 0.8632403612136841),\n",
       " ('thoroughly', 0.8615832924842834),\n",
       " ('tedious', 0.8571829795837402),\n",
       " ('awful', 0.8557663559913635),\n",
       " ('seriously', 0.8478266000747681),\n",
       " ('enlightening', 0.845129668712616),\n",
       " ('slight', 0.8436728119850159)]"
      ]
     },
     "execution_count": 14,
     "metadata": {},
     "output_type": "execute_result"
    }
   ],
   "source": [
    "phrase_w2v.most_similar('boring')"
   ]
  },
  {
   "cell_type": "code",
   "execution_count": 15,
   "metadata": {},
   "outputs": [
    {
     "name": "stdout",
     "output_type": "stream",
     "text": [
      "vocab size : 9408\n"
     ]
    }
   ],
   "source": [
    "from sklearn.feature_extraction.text import TfidfVectorizer\n",
    "\n",
    "vectorizer = TfidfVectorizer(analyzer=lambda x: x, min_df=10)\n",
    "matrix = vectorizer.fit_transform([x.words for x in x_train])\n",
    "tfidf = dict(zip(vectorizer.get_feature_names(), vectorizer.idf_))\n",
    "print 'vocab size :', len(tfidf)"
   ]
  },
  {
   "cell_type": "code",
   "execution_count": 16,
   "metadata": {
    "collapsed": true
   },
   "outputs": [],
   "source": [
    "def buildWordVector(tokens, size):\n",
    "    vec = np.zeros(size).reshape((1, size))\n",
    "    count = 0.\n",
    "    for word in tokens:\n",
    "        try:\n",
    "            vec += phrase_w2v[word].reshape((1, size)) * tfidf[word]\n",
    "            count += 1.\n",
    "        except KeyError: # handling the case where the token is not\n",
    "                         # in the corpus. useful for testing.\n",
    "            continue\n",
    "    if count != 0:\n",
    "        vec /= count\n",
    "    return vec"
   ]
  },
  {
   "cell_type": "code",
   "execution_count": 17,
   "metadata": {
    "collapsed": true
   },
   "outputs": [],
   "source": [
    "from sklearn.preprocessing import scale\n",
    "train_vecs_w2v = np.concatenate([buildWordVector(z, 150) for z in map(lambda x: x.words, x_train)])\n",
    "train_vecs_w2v = scale(train_vecs_w2v)\n",
    "\n",
    "test_vecs_w2v = np.concatenate([buildWordVector(z, 150) for z in map(lambda x: x.words, x_test)])\n",
    "test_vecs_w2v = scale(test_vecs_w2v)"
   ]
  },
  {
   "cell_type": "code",
   "execution_count": 18,
   "metadata": {},
   "outputs": [
    {
     "name": "stdout",
     "output_type": "stream",
     "text": [
      "(124848, 5)\n",
      "(31212, 5)\n"
     ]
    }
   ],
   "source": [
    "import keras\n",
    "\n",
    "# One-hot encoding the labels\n",
    "num_classes = 5\n",
    "y_train = keras.utils.to_categorical(y_train, num_classes)\n",
    "print(y_train.shape)\n",
    "\n",
    "# One-hot encoding the labels\n",
    "num_classes = 5\n",
    "y_test = keras.utils.to_categorical(y_test, num_classes)\n",
    "print(y_test.shape)"
   ]
  },
  {
   "cell_type": "code",
   "execution_count": 21,
   "metadata": {},
   "outputs": [
    {
     "name": "stdout",
     "output_type": "stream",
     "text": [
      "Epoch 1/30\n",
      "124848/124848 [==============================] - 26s - loss: 1.1736 - acc: 0.5302    \n",
      "Epoch 2/30\n",
      "   736/124848 [..............................] - ETA: 29s - loss: 1.1511 - acc: 0.5489"
     ]
    },
    {
     "name": "stderr",
     "output_type": "stream",
     "text": [
      "/usr/local/lib/python2.7/dist-packages/keras/callbacks.py:405: RuntimeWarning: Can save best model only with val_loss available, skipping.\n",
      "  'skipping.' % (self.monitor), RuntimeWarning)\n"
     ]
    },
    {
     "name": "stdout",
     "output_type": "stream",
     "text": [
      "124848/124848 [==============================] - 27s - loss: 1.1477 - acc: 0.5411    \n",
      "Epoch 3/30\n",
      "124848/124848 [==============================] - 26s - loss: 1.1392 - acc: 0.5452    \n",
      "Epoch 4/30\n",
      "124848/124848 [==============================] - 26s - loss: 1.1335 - acc: 0.5479    \n",
      "Epoch 5/30\n",
      "124848/124848 [==============================] - 26s - loss: 1.1269 - acc: 0.5514    \n",
      "Epoch 6/30\n",
      "124848/124848 [==============================] - 26s - loss: 1.1250 - acc: 0.5533    \n",
      "Epoch 7/30\n",
      "124848/124848 [==============================] - 26s - loss: 1.1235 - acc: 0.5547    \n",
      "Epoch 8/30\n",
      "124848/124848 [==============================] - 26s - loss: 1.1278 - acc: 0.5553    \n",
      "Epoch 9/30\n",
      "124848/124848 [==============================] - 26s - loss: 1.1251 - acc: 0.5556    \n",
      "Epoch 10/30\n",
      "124848/124848 [==============================] - 26s - loss: 1.1264 - acc: 0.5564    \n",
      "Epoch 11/30\n",
      "124848/124848 [==============================] - 26s - loss: 1.1267 - acc: 0.5578    \n",
      "Epoch 12/30\n",
      "124848/124848 [==============================] - 26s - loss: 1.1222 - acc: 0.5583    \n",
      "Epoch 13/30\n",
      "124848/124848 [==============================] - 28s - loss: 1.1317 - acc: 0.5604    \n",
      "Epoch 14/30\n",
      "124848/124848 [==============================] - 29s - loss: 1.1393 - acc: 0.5622    \n",
      "Epoch 15/30\n",
      "124848/124848 [==============================] - 29s - loss: 1.1351 - acc: 0.5641    \n",
      "Epoch 16/30\n",
      "124848/124848 [==============================] - 28s - loss: 1.1655 - acc: 0.5631    \n",
      "Epoch 17/30\n",
      "124848/124848 [==============================] - 28s - loss: 1.1399 - acc: 0.5645    \n",
      "Epoch 18/30\n",
      "124848/124848 [==============================] - 27s - loss: 1.1464 - acc: 0.5634    \n",
      "Epoch 19/30\n",
      "124848/124848 [==============================] - 28s - loss: 1.1310 - acc: 0.5640    \n",
      "Epoch 20/30\n",
      "124848/124848 [==============================] - 27s - loss: 1.1275 - acc: 0.5674    \n",
      "Epoch 21/30\n",
      "124848/124848 [==============================] - 28s - loss: 1.1284 - acc: 0.5671    \n",
      "Epoch 22/30\n",
      "124848/124848 [==============================] - 27s - loss: 1.1772 - acc: 0.5669    \n",
      "Epoch 23/30\n",
      "124848/124848 [==============================] - 26s - loss: 1.1853 - acc: 0.5694    \n",
      "Epoch 24/30\n",
      "124848/124848 [==============================] - 27s - loss: 1.2102 - acc: 0.5687    \n",
      "Epoch 25/30\n",
      "124848/124848 [==============================] - 27s - loss: 1.2368 - acc: 0.5704    \n",
      "Epoch 26/30\n",
      "124848/124848 [==============================] - 28s - loss: 1.2296 - acc: 0.5690    \n",
      "Epoch 27/30\n",
      "124848/124848 [==============================] - 26s - loss: 1.2744 - acc: 0.5703    \n",
      "Epoch 28/30\n",
      "124848/124848 [==============================] - 26s - loss: 1.3105 - acc: 0.5724    \n",
      "Epoch 29/30\n",
      "124848/124848 [==============================] - 26s - loss: 1.2372 - acc: 0.5703    \n",
      "Epoch 30/30\n",
      "124848/124848 [==============================] - 26s - loss: 1.2318 - acc: 0.5718    \n"
     ]
    },
    {
     "data": {
      "text/plain": [
       "<keras.callbacks.History at 0x7ff6750fc950>"
      ]
     },
     "execution_count": 21,
     "metadata": {},
     "output_type": "execute_result"
    }
   ],
   "source": [
    "from keras.models import Sequential\n",
    "from keras.layers import Dense,Activation,Dropout\n",
    "from keras.callbacks import ModelCheckpoint\n",
    "\n",
    "model = Sequential()\n",
    "model.add(Dense(512, activation='relu', input_dim=150))\n",
    "model.add(Dropout(0.2))\n",
    "model.add(Dense(256, activation='relu'))\n",
    "model.add(Dropout(0.2))\n",
    "model.add(Dense(128, activation='relu'))\n",
    "model.add(Dense(64, activation='relu'))\n",
    "model.add(Dense(32, activation='relu'))\n",
    "model.add(Dense(5, activation='softmax'))\n",
    "\n",
    "model.compile(optimizer='rmsprop',\n",
    "              loss='categorical_crossentropy',\n",
    "              metrics=['accuracy'])\n",
    "\n",
    "checkpointer = ModelCheckpoint(filepath='saved_models/weights.best.hdf5', \n",
    "                               verbose=1, save_best_only=True)\n",
    "\n",
    "model.fit(train_vecs_w2v, y_train, epochs=30, batch_size=32, callbacks=[checkpointer],verbose=1)"
   ]
  },
  {
   "cell_type": "code",
   "execution_count": 22,
   "metadata": {},
   "outputs": [
    {
     "name": "stdout",
     "output_type": "stream",
     "text": [
      "0.569684736609\n"
     ]
    }
   ],
   "source": [
    "score = model.evaluate(test_vecs_w2v, y_test, batch_size=128, verbose=2)\n",
    "print score[1]"
   ]
  },
  {
   "cell_type": "code",
   "execution_count": null,
   "metadata": {
    "collapsed": true
   },
   "outputs": [],
   "source": []
  }
 ],
 "metadata": {
  "kernelspec": {
   "display_name": "Python 3",
   "language": "python",
   "name": "python3"
  },
  "language_info": {
   "codemirror_mode": {
    "name": "ipython",
    "version": 2
   },
   "file_extension": ".py",
   "mimetype": "text/x-python",
   "name": "python",
   "nbconvert_exporter": "python",
   "pygments_lexer": "ipython2",
   "version": "2.7.12"
  }
 },
 "nbformat": 4,
 "nbformat_minor": 2
}
